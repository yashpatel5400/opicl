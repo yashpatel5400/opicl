{
 "cells": [
  {
   "cell_type": "code",
   "execution_count": 1,
   "metadata": {},
   "outputs": [
    {
     "name": "stdout",
     "output_type": "stream",
     "text": [
      "[[  0.66982269   0.30565652  -2.89082631 ...  -0.13609804   2.25097297\n",
      "    0.567708  ]\n",
      " [  0.30565652   2.56721684  -0.59033589 ...   2.60644459  -4.0436175\n",
      "   -0.34904803]\n",
      " [ -2.89082631  -0.59033589  13.47227709 ...   1.62908326 -12.67281417\n",
      "   -3.00530584]\n",
      " ...\n",
      " [ -0.13609804   2.60644459   1.62908326 ...   3.26099439  -7.23953002\n",
      "   -1.11365655]\n",
      " [  2.25097297  -4.0436175  -12.67281417 ...  -7.23953002  23.63094749\n",
      "    4.69175789]\n",
      " [  0.567708    -0.34904803  -3.00530584 ...  -1.11365655   4.69175789\n",
      "    1.07354289]]\n"
     ]
    }
   ],
   "source": [
    "import numpy as np\n",
    "import matplotlib.pyplot as plt\n",
    "from numpy.fft import fft2, ifft2, fftn, ifftn\n",
    "\n",
    "# GRF generator for random input functions\n",
    "def GRF(alpha, beta, gamma, N, num_samples=10):\n",
    "    xi = np.random.randn(num_samples, N, N)\n",
    "    K1, K2 = np.meshgrid(np.arange(N), np.arange(N), indexing='ij')\n",
    "    freq_sq = (K1**2 + K2**2)\n",
    "    coef = alpha**0.5 * (4*np.pi**2 * freq_sq + beta)**(-gamma/2)\n",
    "    L = N * coef * xi\n",
    "    L[:, 0, 0] = 0  # enforce mean 0\n",
    "    f_spatials = np.real(ifftn(L, norm='forward', axes=(-2, -1)))\n",
    "    return f_spatials\n",
    "\n",
    "# Dataset generation\n",
    "def make_simple_learnable_operator_dataset(num_samples=25, H=64, W=64, sigma=1.0, seed=0):\n",
    "    np.random.seed(seed)\n",
    "    y = np.arange(H)\n",
    "    x = np.arange(W)\n",
    "    Y, X = np.meshgrid(y, x, indexing='ij')\n",
    "    center_y = (H - 1) / 2\n",
    "    center_x = (W - 1) / 2\n",
    "    dist_sq = (X - center_x)**2 + (Y - center_y)**2\n",
    "    f0 = np.exp(-dist_sq / (2 * (H/8)**2))\n",
    "    f0 /= np.linalg.norm(f0)\n",
    "\n",
    "    kernel_spatial = np.exp(-dist_sq / (2 * sigma**2))\n",
    "    kernel_spatial /= np.sum(kernel_spatial)\n",
    "    kernel_hat = fft2(kernel_spatial)\n",
    "    f0_hat = fft2(f0)\n",
    "    conv_f0 = ifft2(kernel_hat * f0_hat).real\n",
    "\n",
    "    alpha, beta, gamma, N = 1.0, 1.0, 4.0, H\n",
    "    fs = GRF(alpha, beta, gamma, N, num_samples)\n",
    "\n",
    "    Ofs = np.array([\n",
    "        np.sum(f_i * f0) * conv_f0\n",
    "        for f_i in fs\n",
    "    ])\n",
    "\n",
    "    return fs, Ofs, f0\n",
    "\n",
    "# Generate data\n",
    "icl_num_samples = 100\n",
    "f, Of, f0 = make_simple_learnable_operator_dataset(num_samples=icl_num_samples)\n",
    "\n",
    "# Split into train and test\n",
    "f_train  = f[:-1]\n",
    "Of_train = Of[:-1]\n",
    "f_test   = f[-1]\n",
    "Of_test  = Of[-1]\n",
    "\n",
    "# Linear regression in operator RKHS\n",
    "# Model: O_hat(f) = sum_i alpha_i * <f, f_i> * conv_f0\n",
    "\n",
    "# Precompute inner products <f_train[i], f_train[j]>\n",
    "T, H, W = f_train.shape\n",
    "gram = np.array([\n",
    "    [np.sum(f_train[i] * f_train[j]) for j in range(T)]\n",
    "    for i in range(T)\n",
    "])\n",
    "\n",
    "print(gram)\n",
    "\n",
    "# # Flatten training outputs\n",
    "# Y = Of_train.reshape(T, -1)  # shape (T, H*W)\n",
    "\n",
    "# # Solve (G + lambda I) alpha = Y for each pixel\n",
    "# G_reg = gram\n",
    "# alpha = np.linalg.solve(G_reg, Y)  # shape (T, H*W)\n",
    "\n",
    "# # Predict Of_test\n",
    "# test_inner_prods = np.array([np.sum(f_test * f_train[i]) for i in range(T)])  # shape (T,)\n",
    "# Of_test_pred_flat = test_inner_prods @ alpha  # shape (H*W,)\n",
    "# Of_test_pred = Of_test_pred_flat.reshape(H, W)\n",
    "\n",
    "# # Retry with fewer steps and more efficient updates\n",
    "# alpha_gd = np.zeros((T, H * W))\n",
    "# lr = 1e-2\n",
    "# num_steps = 1\n",
    "# max_grad_norm = 1e2\n",
    "\n",
    "# losses = []\n",
    "\n",
    "# for step in range(num_steps):\n",
    "#     residual = gram @ alpha_gd - Y\n",
    "#     grad     = gram.T @ residual\n",
    "#     alpha_gd -= lr * grad\n",
    "\n",
    "#     loss = 0.5 * np.linalg.norm(residual)**2\n",
    "#     losses.append(loss)\n",
    "\n",
    "# # Predict using GD solution\n",
    "# Of_test_pred_gd_flat = test_inner_prods @ alpha_gd\n",
    "# Of_test_pred_gd = Of_test_pred_gd_flat.reshape(H, W)\n",
    "\n",
    "# # Plot comparison\n",
    "# fig, axes = plt.subplots(1, 3, figsize=(15, 5))\n",
    "\n",
    "# axes[0].imshow(Of_test, cmap='viridis')\n",
    "# axes[0].set_title(\"Ground Truth: O f_test\")\n",
    "# axes[0].axis('off')\n",
    "\n",
    "# axes[1].imshow(Of_test_pred, cmap='viridis')\n",
    "# axes[1].set_title(\"Closed-Form RKHS Prediction\")\n",
    "# axes[1].axis('off')\n",
    "\n",
    "# axes[2].imshow(Of_test_pred_gd, cmap='viridis')\n",
    "# axes[2].set_title(\"Gradient Descent Prediction\")\n",
    "# axes[2].axis('off')\n",
    "\n",
    "# plt.tight_layout()\n",
    "# plt.show(), losses[-1]"
   ]
  },
  {
   "cell_type": "code",
   "execution_count": 2,
   "metadata": {},
   "outputs": [],
   "source": [
    "from opformer import TransformerOperator\n",
    "import torch\n",
    "\n",
    "device = \"cuda\"\n",
    "\n",
    "im_size = (64, 64)\n",
    "opformer = TransformerOperator(num_layers=5, im_size=im_size, icl_init=True, sigma=1.0).to(device)"
   ]
  },
  {
   "cell_type": "code",
   "execution_count": 3,
   "metadata": {},
   "outputs": [
    {
     "name": "stdout",
     "output_type": "stream",
     "text": [
      "tensor([[[[ 1.6353e-04,  7.4623e-05, -7.0577e-04,  ...,  5.4955e-04,\n",
      "            1.3860e-04, -1.9199e-04],\n",
      "          [ 7.4623e-05,  6.2676e-04, -1.4412e-04,  ..., -9.8721e-04,\n",
      "           -8.5217e-05, -4.5000e-05],\n",
      "          [-7.0577e-04, -1.4412e-04,  3.2891e-03,  ..., -3.0939e-03,\n",
      "           -7.3372e-04,  9.2420e-04],\n",
      "          ...,\n",
      "          [ 5.4955e-04, -9.8721e-04, -3.0939e-03,  ...,  5.7693e-03,\n",
      "            1.1454e-03, -9.6485e-04],\n",
      "          [ 1.3860e-04, -8.5217e-05, -7.3372e-04,  ...,  1.1454e-03,\n",
      "            2.6210e-04, -2.3388e-04],\n",
      "          [-1.9199e-04, -4.5000e-05,  9.2420e-04,  ..., -9.6485e-04,\n",
      "           -2.3388e-04,  5.4901e-04]]]], device='cuda:0',\n",
      "       grad_fn=<DivBackward0>)\n",
      "tensor([[[[ 0.0007,  0.0003, -0.0028,  ...,  0.0022,  0.0006, -0.0008],\n",
      "          [ 0.0003,  0.0025, -0.0006,  ..., -0.0039, -0.0003, -0.0002],\n",
      "          [-0.0028, -0.0006,  0.0132,  ..., -0.0124, -0.0029,  0.0037],\n",
      "          ...,\n",
      "          [ 0.0022, -0.0039, -0.0124,  ...,  0.0231,  0.0046, -0.0039],\n",
      "          [ 0.0006, -0.0003, -0.0029,  ...,  0.0046,  0.0010, -0.0009],\n",
      "          [-0.0008, -0.0002,  0.0037,  ..., -0.0039, -0.0009,  0.0022]]]],\n",
      "       device='cuda:0', grad_fn=<DivBackward0>)\n",
      "tensor([[[[ 0.0026,  0.0012, -0.0113,  ...,  0.0088,  0.0022, -0.0031],\n",
      "          [ 0.0012,  0.0100, -0.0023,  ..., -0.0158, -0.0014, -0.0007],\n",
      "          [-0.0113, -0.0023,  0.0526,  ..., -0.0495, -0.0117,  0.0148],\n",
      "          ...,\n",
      "          [ 0.0088, -0.0158, -0.0495,  ...,  0.0923,  0.0183, -0.0154],\n",
      "          [ 0.0022, -0.0014, -0.0117,  ...,  0.0183,  0.0042, -0.0037],\n",
      "          [-0.0031, -0.0007,  0.0148,  ..., -0.0154, -0.0037,  0.0088]]]],\n",
      "       device='cuda:0', grad_fn=<DivBackward0>)\n",
      "tensor([[[[ 0.0105,  0.0048, -0.0452,  ...,  0.0352,  0.0089, -0.0123],\n",
      "          [ 0.0048,  0.0401, -0.0092,  ..., -0.0632, -0.0055, -0.0029],\n",
      "          [-0.0452, -0.0092,  0.2105,  ..., -0.1980, -0.0470,  0.0591],\n",
      "          ...,\n",
      "          [ 0.0352, -0.0632, -0.1980,  ...,  0.3692,  0.0733, -0.0618],\n",
      "          [ 0.0089, -0.0055, -0.0470,  ...,  0.0733,  0.0168, -0.0150],\n",
      "          [-0.0123, -0.0029,  0.0591,  ..., -0.0618, -0.0150,  0.0351]]]],\n",
      "       device='cuda:0', grad_fn=<DivBackward0>)\n",
      "tensor([[[[ 0.0419,  0.0191, -0.1807,  ...,  0.1407,  0.0355, -0.0492],\n",
      "          [ 0.0191,  0.1605, -0.0369,  ..., -0.2527, -0.0218, -0.0115],\n",
      "          [-0.1807, -0.0369,  0.8420,  ..., -0.7921, -0.1878,  0.2366],\n",
      "          ...,\n",
      "          [ 0.1407, -0.2527, -0.7921,  ...,  1.4769,  0.2932, -0.2470],\n",
      "          [ 0.0355, -0.0218, -0.1878,  ...,  0.2932,  0.0671, -0.0599],\n",
      "          [-0.0492, -0.0115,  0.2366,  ..., -0.2470, -0.0599,  0.1405]]]],\n",
      "       device='cuda:0', grad_fn=<DivBackward0>)\n"
     ]
    }
   ],
   "source": [
    "Z = np.expand_dims(np.concatenate([f, Of], axis=1), axis=0)\n",
    "Z_pt = torch.from_numpy(Z).to(device).to(torch.float32)\n",
    "y_test = Z_pt[:,-1,im_size[0]//2:].clone().cpu().numpy()\n",
    "Z_pt[:,-1,im_size[0]//2:] = 0\n",
    "\n",
    "pred_opformer = opformer(Z_pt)\n",
    "pred_opformer = pred_opformer.cpu().detach().numpy()"
   ]
  },
  {
   "cell_type": "code",
   "execution_count": 18,
   "metadata": {},
   "outputs": [
    {
     "data": {
      "text/plain": [
       "<matplotlib.image.AxesImage at 0x7f5370354910>"
      ]
     },
     "execution_count": 18,
     "metadata": {},
     "output_type": "execute_result"
    },
    {
     "data": {
      "image/png": "[encoded data removed]",
      "text/plain": [
       "<Figure size 640x480 with 1 Axes>"
      ]
     },
     "metadata": {},
     "output_type": "display_data"
    }
   ],
   "source": [
    "plt.imshow(f_train[0])"
   ]
  },
  {
   "cell_type": "code",
   "execution_count": 10,
   "metadata": {},
   "outputs": [
    {
     "name": "stdout",
     "output_type": "stream",
     "text": [
      "(100, 4096)\n",
      "(100, 4096)\n"
     ]
    }
   ],
   "source": [
    "q = np.load(\"q.npy\")[0,0]\n",
    "k = np.load(\"k.npy\")[0,0]\n",
    "\n",
    "kx = np.matmul(q, k.transpose(-1, -2))\n",
    "\n",
    "print(q.shape)\n",
    "print(k.shape)"
   ]
  },
  {
   "cell_type": "code",
   "execution_count": 19,
   "metadata": {},
   "outputs": [
    {
     "data": {
      "text/plain": [
       "array([0.33221892, 0.330316  , 0.32458422, ..., 0.32185775, 0.32915482,\n",
       "       0.33307165], dtype=float32)"
      ]
     },
     "execution_count": 19,
     "metadata": {},
     "output_type": "execute_result"
    }
   ],
   "source": [
    "q[0]"
   ]
  },
  {
   "cell_type": "code",
   "execution_count": 20,
   "metadata": {},
   "outputs": [
    {
     "data": {
      "text/plain": [
       "array([[0.02076368, 0.02064476, 0.02028652, ..., 0.01971395, 0.02028652,\n",
       "        0.02064476],\n",
       "       [0.0208133 , 0.02081698, 0.02057218, ..., 0.01940694, 0.02009468,\n",
       "        0.02056749],\n",
       "       [0.0209505 , 0.02106629, 0.02092099, ..., 0.01919044, 0.01998613,\n",
       "        0.0205771 ],\n",
       "       ...,\n",
       "       [0.0211332 , 0.0206496 , 0.01993822, ..., 0.02098952, 0.02126928,\n",
       "        0.02133211],\n",
       "       [0.0209505 , 0.0205771 , 0.01998613, ..., 0.02056288, 0.02092099,\n",
       "        0.02106629],\n",
       "       [0.0208133 , 0.02056749, 0.02009468, ..., 0.02011611, 0.02057218,\n",
       "        0.02081698]])"
      ]
     },
     "execution_count": 20,
     "metadata": {},
     "output_type": "execute_result"
    }
   ],
   "source": [
    "f_train[0]"
   ]
  },
  {
   "cell_type": "code",
   "execution_count": null,
   "metadata": {},
   "outputs": [],
   "source": []
  }
 ],
 "metadata": {
  "kernelspec": {
   "display_name": "spectral",
   "language": "python",
   "name": "python3"
  },
  "language_info": {
   "codemirror_mode": {
    "name": "ipython",
    "version": 3
   },
   "file_extension": ".py",
   "mimetype": "text/x-python",
   "name": "python",
   "nbconvert_exporter": "python",
   "pygments_lexer": "ipython3",
   "version": "3.11.10"
  }
 },
 "nbformat": 4,
 "nbformat_minor": 2
}
